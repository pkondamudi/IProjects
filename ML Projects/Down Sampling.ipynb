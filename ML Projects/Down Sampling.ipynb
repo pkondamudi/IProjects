{
 "cells": [
  {
   "cell_type": "code",
   "execution_count": 3,
   "metadata": {
    "collapsed": false
   },
   "outputs": [
    {
     "name": "stdout",
     "output_type": "stream",
     "text": [
      "Automatically created module for IPython interactive environment\n"
     ]
    }
   ],
   "source": [
    "print(__doc__)\n",
    "\n",
    "import numpy as np\n",
    "import matplotlib.pyplot as plt\n",
    "from matplotlib.colors import ListedColormap\n",
    "from sklearn.model_selection import train_test_split\n",
    "from sklearn.preprocessing import StandardScaler\n",
    "from sklearn.datasets import make_moons, make_circles, make_classification\n",
    "from sklearn.neural_network import MLPClassifier\n",
    "from sklearn.neighbors import KNeighborsClassifier\n",
    "from sklearn.svm import SVC\n",
    "from sklearn.gaussian_process import GaussianProcessClassifier\n",
    "from sklearn.gaussian_process.kernels import RBF\n",
    "from sklearn.tree import DecisionTreeClassifier\n",
    "from sklearn.ensemble import RandomForestClassifier, AdaBoostClassifier\n",
    "from sklearn.naive_bayes import GaussianNB\n",
    "from sklearn.discriminant_analysis import QuadraticDiscriminantAnalysis\n",
    "import pandas as pd\n",
    "from sklearn.decomposition import PCA\n",
    "from sklearn.metrics import accuracy_score\n",
    "from sklearn.metrics import precision_score\n",
    "from sklearn.metrics import recall_score\n",
    "from sklearn.metrics import f1_score\n",
    "from sklearn.model_selection import cross_val_score\n",
    "from sklearn.metrics import roc_auc_score\n",
    "from sklearn.ensemble import ExtraTreesClassifier\n",
    "from sklearn.naive_bayes import BernoulliNB\n",
    "from sklearn.metrics import precision_recall_curve\n",
    "from sklearn.metrics import average_precision_score\n",
    "from sklearn.metrics import roc_curve, auc\n",
    "import pandas as pd\n",
    "import numpy as np\n",
    "from sklearn.utils import resample\n",
    "from sklearn.naive_bayes import MultinomialNB"
   ]
  },
  {
   "cell_type": "code",
   "execution_count": 16,
   "metadata": {
    "collapsed": false,
    "scrolled": false
   },
   "outputs": [
    {
     "name": "stdout",
     "output_type": "stream",
     "text": [
      "1    102862\n",
      "0     15180\n",
      "Name: Class, dtype: int64\n",
      "1    15180\n",
      "0    15180\n",
      "Name: Class, dtype: int64\n",
      "Accuracy Score: 0.619095180227062\n",
      "Precession Score: 0.573512252042007\n",
      "Recall Score: 0.8753339269813001\n",
      "F1 Score: 0.6929855481142052\n"
     ]
    },
    {
     "data": {
      "image/png": "[encoded data removed]",
      "text/plain": [
       "<matplotlib.figure.Figure at 0xe64cf98>"
      ]
     },
     "metadata": {},
     "output_type": "display_data"
    }
   ],
   "source": [
    "file = \"C:\\\\Users\\\\Pavan\\\\Desktop\\\\Book1.csv\";\n",
    "\n",
    "df = pd.read_csv(file)#, \n",
    "\n",
    "y = df.Class\n",
    "X = df.drop('Class', axis=1)\n",
    "\n",
    "df_majority = df[df.Class==1]\n",
    "df_minority = df[df.Class==0]\n",
    "\n",
    "\n",
    "# Downsample majority class\n",
    "df_majority_downsampled = resample(df_majority, \n",
    "                                 replace=False,    # sample without replacement\n",
    "                                 n_samples=15180,     # to match minority class\n",
    "                                 random_state=123) # reproducible results\n",
    " \n",
    "# Combine minority class with downsampled majority class\n",
    "df_downsampled = pd.concat([df_majority_downsampled, df_minority])\n",
    " \n",
    "# Display new class counts\n",
    "print(df_downsampled.Class.value_counts())\n",
    "\n",
    "\n",
    "y = df_downsampled.Class\n",
    "X = df_downsampled.drop('Class', axis=1)\n",
    "\n",
    "\n",
    "X_train, X_test, y_train, y_test = train_test_split(X, y, test_size=0.30, random_state=42)\n",
    "\n",
    "classifiers = [\n",
    "    KNeighborsClassifier(10),\n",
    "    GaussianProcessClassifier(1.0 * RBF(1.0), warm_start=True),\n",
    "    DecisionTreeClassifier(max_depth=10000),\n",
    "    RandomForestClassifier(max_depth=10000, n_estimators=50, max_features=4),\n",
    "    MLPClassifier(alpha=1),\n",
    "    AdaBoostClassifier(),\n",
    "    GaussianNB(),\n",
    "    QuadraticDiscriminantAnalysis(),\n",
    "    SVC(kernel=\"rbf\", C=0.025),\n",
    "    SVC(gamma=2, C=1),\n",
    "    BernoulliNB()]\n",
    "\n",
    "clf = BernoulliNB()\n",
    "name = 'Bernoulli Naive Bayes'\n",
    "\n",
    "clf.fit(X_train, y_train)\n",
    "    \n",
    "y_pdct = clf.predict(X_test)\n",
    "\n",
    "scores = cross_val_score(clf, X_train, y_train, cv=10)\n",
    "\n",
    "avg_score = 0.0\n",
    "    \n",
    "for score in scores:\n",
    "    avg_score += score\n",
    "\n",
    "print('Accuracy Score: {}'.format(avg_score/10))\n",
    "print('Precession Score: {}'.format(precision_score(y_test, y_pdct, average='binary', pos_label=0)))\n",
    "print('Recall Score: {}'.format(recall_score(y_test, y_pdct, average='binary', pos_label=0)))\n",
    "print('F1 Score: {}'.format(f1_score(y_test, y_pdct, average='binary', pos_label=0)))\n",
    "\n",
    "fpr, tpr, _ = roc_curve(y_test, y_pdct, pos_label=1)\n",
    "roc_auc = auc(fpr, tpr)\n",
    "average_precision = average_precision_score(y_test, y_pdct)    \n",
    "plt.figure()\n",
    "lw = 2\n",
    "plt.plot(fpr, tpr, color='darkorange',\n",
    "     lw=lw, label='ROC curve (area = %0.2f)' % roc_auc)\n",
    "plt.plot([0, 1], [0, 1], color='navy', lw=lw, linestyle='--')\n",
    "plt.xlim([0.0, 1.0])\n",
    "plt.ylim([0.0, 1.05])\n",
    "plt.title('{} Precision-Recall curve: AUC={:.2f}'.format(\n",
    "          name,roc_auc))\n",
    "plt.xlabel('False Positive Rate')\n",
    "plt.ylabel('True Positive Rate')\n",
    "plt.legend(loc=\"lower right\")\n",
    "plt.show()"
   ]
  },
  {
   "cell_type": "code",
   "execution_count": null,
   "metadata": {
    "collapsed": true
   },
   "outputs": [],
   "source": []
  }
 ],
 "metadata": {
  "kernelspec": {
   "display_name": "Python 3",
   "language": "python",
   "name": "python3"
  },
  "language_info": {
   "codemirror_mode": {
    "name": "ipython",
    "version": 3
   },
   "file_extension": ".py",
   "mimetype": "text/x-python",
   "name": "python",
   "nbconvert_exporter": "python",
   "pygments_lexer": "ipython3",
   "version": "3.6.0"
  }
 },
 "nbformat": 4,
 "nbformat_minor": 2
}
