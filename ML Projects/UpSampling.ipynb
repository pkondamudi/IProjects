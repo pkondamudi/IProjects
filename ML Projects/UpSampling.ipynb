{
 "cells": [
  {
   "cell_type": "code",
   "execution_count": 2,
   "metadata": {
    "collapsed": false
   },
   "outputs": [
    {
     "name": "stdout",
     "output_type": "stream",
     "text": [
      "df_minority_upsampled = resample(df_minority, \n",
      "                                 replace=True,     # sample with replacement\n",
      "                                 n_samples=102862,    # to match majority class\n",
      "                                 random_state=50) # reproducible results\n",
      "\n",
      "\n",
      "df_upsampled = pd.concat([df_majority, df_minority_upsampled])\n",
      "\n",
      "print(df_upsampled.Class.value_counts())\n",
      "\n",
      "\n",
      "y = df_upsampled.Class\n",
      "X = df_upsampled.drop('Class', axis=1)\n"
     ]
    }
   ],
   "source": [
    "print(__doc__)\n",
    "%matplotlib inline\n",
    "import numpy as np\n",
    "import matplotlib.pyplot as plt\n",
    "from matplotlib.colors import ListedColormap\n",
    "from sklearn.model_selection import train_test_split\n",
    "from sklearn.preprocessing import StandardScaler\n",
    "from sklearn.datasets import make_moons, make_circles, make_classification\n",
    "from sklearn.neural_network import MLPClassifier\n",
    "from sklearn.neighbors import KNeighborsClassifier\n",
    "from sklearn.svm import SVC\n",
    "from sklearn.gaussian_process import GaussianProcessClassifier\n",
    "from sklearn.gaussian_process.kernels import RBF\n",
    "from sklearn.tree import DecisionTreeClassifier\n",
    "from sklearn.ensemble import RandomForestClassifier, AdaBoostClassifier\n",
    "from sklearn.naive_bayes import GaussianNB\n",
    "from sklearn.discriminant_analysis import QuadraticDiscriminantAnalysis\n",
    "import pandas as pd\n",
    "from sklearn.decomposition import PCA\n",
    "from sklearn.metrics import accuracy_score\n",
    "from sklearn.metrics import precision_score\n",
    "from sklearn.metrics import recall_score\n",
    "from sklearn.metrics import f1_score\n",
    "from sklearn.model_selection import cross_val_score\n",
    "from sklearn.metrics import roc_auc_score\n",
    "from sklearn.ensemble import ExtraTreesClassifier\n",
    "from sklearn.naive_bayes import BernoulliNB\n",
    "from sklearn.naive_bayes import MultinomialNB\n",
    "from sklearn.metrics import precision_recall_curve\n",
    "from sklearn.metrics import average_precision_score\n",
    "from sklearn.metrics import roc_curve, auc\n",
    "import pandas as pd\n",
    "import numpy as np\n",
    "from sklearn.utils import resample\n",
    "from sklearn.preprocessing import LabelEncoder"
   ]
  },
  {
   "cell_type": "code",
   "execution_count": 3,
   "metadata": {
    "collapsed": false
   },
   "outputs": [
    {
     "name": "stdout",
     "output_type": "stream",
     "text": [
      "1    63032\n",
      "0    59621\n",
      "Name: Class, dtype: int64\n"
     ]
    }
   ],
   "source": [
    "file = \"C:\\\\Users\\\\Pavan\\\\Desktop\\\\input1.csv\";\n",
    "\n",
    "df = pd.read_csv(file)#, \n",
    "\n",
    "\n",
    "print(df['Class'].value_counts())\n",
    "\n",
    "\n",
    "lb = LabelEncoder()\n",
    "\n",
    "df.disci = lb.fit_transform(df.disci)\n",
    "df.cohort = lb.fit_transform(df.cohort)\n",
    "df.plt_max_mentions = lb.fit_transform(df.plt_max_mentions)\n",
    "df.publisher = lb.fit_transform(df.publisher)\n",
    "\n",
    "\n",
    "#df.hist(column='citations')\n",
    "\n",
    "y = df.Class\n",
    "X = df.drop('Class', axis=1)\n",
    "\n",
    "df_majority = df[df.Class==1]\n",
    "df_minority = df[df.Class==0]\n"
   ]
  },
  {
   "cell_type": "code",
   "execution_count": 4,
   "metadata": {
    "collapsed": false
   },
   "outputs": [],
   "source": [
    "#df.hist(column='citations', bins=50)"
   ]
  },
  {
   "cell_type": "code",
   "execution_count": 5,
   "metadata": {
    "collapsed": true
   },
   "outputs": [],
   "source": [
    "\n",
    "\n",
    "y = df.Class\n",
    "X = df.drop('Class', axis=1)\n",
    "\n",
    "df_majority = df[df.Class==1]\n",
    "df_minority = df[df.Class==0]"
   ]
  },
  {
   "cell_type": "code",
   "execution_count": null,
   "metadata": {
    "collapsed": false
   },
   "outputs": [],
   "source": [
    "\n",
    "\n",
    "\n",
    "\"\"\"df_minority_upsampled = resample(df_minority, \n",
    "                                 replace=True,     # sample with replacement\n",
    "                                 n_samples=102862,    # to match majority class\n",
    "                                 random_state=50) # reproducible results\n",
    "\n",
    "\n",
    "df_upsampled = pd.concat([df_majority, df_minority_upsampled])\n",
    "\n",
    "print(df_upsampled.Class.value_counts())\n",
    "\n",
    "\n",
    "y = df_upsampled.Class\n",
    "X = df_upsampled.drop('Class', axis=1)\"\"\"\n",
    "\n",
    "lb = LabelEncoder()\n",
    "\n",
    "\n",
    "X_train, X_test, y_train, y_test = train_test_split(X, y, test_size=0.30, random_state=42)\n",
    "\n",
    "classifiers = [\n",
    "    KNeighborsClassifier(10),\n",
    "    GaussianProcessClassifier(1.0 * RBF(1.0), warm_start=True),\n",
    "    DecisionTreeClassifier(max_depth=10000),\n",
    "    RandomForestClassifier(max_depth=10000, n_estimators=50, max_features=4),\n",
    "    MLPClassifier(alpha=1),\n",
    "    AdaBoostClassifier(),\n",
    "    GaussianNB(),\n",
    "    QuadraticDiscriminantAnalysis(),\n",
    "    SVC(kernel=\"rbf\", C=0.025),\n",
    "    SVC(gamma=2, C=1),\n",
    "    BernoulliNB()]\n",
    "\n",
    "clf = SVC(kernel=\"rbf\", C=0.025)\n",
    "name = 'Random Forest'\n",
    "\n",
    "\n",
    "clf.fit(X_train, y_train)\n",
    "    \n",
    "y_pdct = clf.predict(X_test)\n",
    "\n",
    "scores = cross_val_score(clf, X_train, y_train, cv=10)\n",
    "\n",
    "print(scores)\n",
    "\n",
    "avg_score = 0.0\n",
    "    \n",
    "for score in scores:\n",
    "    avg_score += score\n",
    "\n",
    "print('Accuracy Score: {}'.format(avg_score/10))\n",
    "print('Precession Score: {}'.format(precision_score(y_test, y_pdct, average='binary', pos_label=1)))\n",
    "print('Recall Score: {}'.format(recall_score(y_test, y_pdct, average='binary', pos_label=1)))\n",
    "print('F1 Score: {}'.format(f1_score(y_test, y_pdct, average='binary', pos_label=1)))\n",
    "\n",
    "print(clf.feature_importances_)\n",
    "\n",
    "fpr, tpr, _ = roc_curve(y_test, y_pdct, pos_label=1)\n",
    "roc_auc = auc(fpr, tpr)\n",
    "average_precision = average_precision_score(y_test, y_pdct)    \n",
    "plt.figure()\n",
    "lw = 2\n",
    "plt.plot(fpr, tpr, color='darkorange',\n",
    "     lw=lw, label='ROC curve (area = %0.2f)' % roc_auc)\n",
    "plt.plot([0, 1], [0, 1], color='navy', lw=lw, linestyle='--')\n",
    "plt.xlim([0.0, 1.0])\n",
    "plt.ylim([0.0, 1.05])\n",
    "plt.title('{}'.format(\n",
    "          name))\n",
    "plt.xlabel('False Positive Rate')\n",
    "plt.ylabel('True Positive Rate')\n",
    "plt.legend(loc=\"lower right\")\n",
    "plt.show()"
   ]
  },
  {
   "cell_type": "code",
   "execution_count": null,
   "metadata": {
    "collapsed": true
   },
   "outputs": [],
   "source": []
  },
  {
   "cell_type": "code",
   "execution_count": null,
   "metadata": {
    "collapsed": true
   },
   "outputs": [],
   "source": []
  }
 ],
 "metadata": {
  "kernelspec": {
   "display_name": "Python 3",
   "language": "python",
   "name": "python3"
  },
  "language_info": {
   "codemirror_mode": {
    "name": "ipython",
    "version": 3
   },
   "file_extension": ".py",
   "mimetype": "text/x-python",
   "name": "python",
   "nbconvert_exporter": "python",
   "pygments_lexer": "ipython3",
   "version": "3.6.0"
  }
 },
 "nbformat": 4,
 "nbformat_minor": 2
}
