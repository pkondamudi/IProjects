{
 "cells": [
  {
   "cell_type": "code",
   "execution_count": null,
   "metadata": {
    "collapsed": true
   },
   "outputs": [],
   "source": [
    "%matplotlib inline"
   ]
  },
  {
   "cell_type": "markdown",
   "metadata": {},
   "source": [
    "\n",
    "# Logistic Regression 3-class Classifier\n",
    "\n",
    "\n",
    "Show below is a logistic-regression classifiers decision boundaries on the\n",
    "`iris <https://en.wikipedia.org/wiki/Iris_flower_data_set>`_ dataset. The\n",
    "datapoints are colored according to their labels.\n",
    "\n",
    "\n"
   ]
  },
  {
   "cell_type": "code",
   "execution_count": 8,
   "metadata": {
    "collapsed": false
   },
   "outputs": [
    {
     "name": "stdout",
     "output_type": "stream",
     "text": [
      "Automatically created module for IPython interactive environment\n",
      "1    52750\n",
      "0    46078\n",
      "Name: Class, dtype: int64\n",
      "Accuracy Score: 0.7359101487402611\n",
      "Precession Score: 0.7127428240069585\n",
      "Recall Score: 0.7177372262773722\n",
      "F1 Score: 0.715231306371836\n"
     ]
    }
   ],
   "source": [
    "print(__doc__)\n",
    "\n",
    "\n",
    "# Code source: Gaël Varoquaux\n",
    "# Modified for documentation by Jaques Grobler\n",
    "# License: BSD 3 clause\n",
    "\n",
    "import numpy as np\n",
    "import matplotlib.pyplot as plt\n",
    "from sklearn import linear_model, datasets\n",
    "import numpy as np\n",
    "import matplotlib.pyplot as plt\n",
    "from matplotlib.colors import ListedColormap\n",
    "from sklearn.model_selection import train_test_split\n",
    "from sklearn.preprocessing import StandardScaler\n",
    "from sklearn.datasets import make_moons, make_circles, make_classification\n",
    "from sklearn.neural_network import MLPClassifier\n",
    "from sklearn.neighbors import KNeighborsClassifier\n",
    "from sklearn.svm import SVC\n",
    "from sklearn.gaussian_process import GaussianProcessClassifier\n",
    "from sklearn.gaussian_process.kernels import RBF\n",
    "from sklearn.tree import DecisionTreeClassifier\n",
    "from sklearn.ensemble import RandomForestClassifier, AdaBoostClassifier\n",
    "from sklearn.naive_bayes import GaussianNB\n",
    "from sklearn.discriminant_analysis import QuadraticDiscriminantAnalysis\n",
    "import pandas as pd\n",
    "from sklearn.decomposition import PCA\n",
    "from sklearn.metrics import accuracy_score\n",
    "from sklearn.metrics import precision_score\n",
    "from sklearn.metrics import recall_score\n",
    "from sklearn.metrics import f1_score\n",
    "from sklearn.model_selection import cross_val_score\n",
    "from sklearn.metrics import roc_auc_score\n",
    "from sklearn import linear_model, datasets\n",
    "from sklearn.preprocessing import LabelEncoder\n",
    "\n",
    "\n",
    "file = \"C:\\\\Users\\\\Pavan\\\\Desktop\\\\input.csv\";\n",
    "\n",
    "df = pd.read_csv(file)#, \n",
    "\n",
    "\n",
    "print(df['Class'].value_counts())\n",
    "\n",
    "\n",
    "lb = LabelEncoder()\n",
    "\n",
    "df.disci = lb.fit_transform(df.disci)\n",
    "df.cohort = lb.fit_transform(df.cohort)\n",
    "df.plt_max_mentions = lb.fit_transform(df.plt_max_mentions)\n",
    "df.publisher = lb.fit_transform(df.publisher)\n",
    "\n",
    "y = df.Class\n",
    "X = df.drop('Class', axis=1)\n",
    "\n",
    "\n",
    "\n",
    "X_train, X_test, y_train, y_test = train_test_split(X, y, test_size=.30, random_state=42)\n",
    "\n",
    "h = .02  # step size in the mesh\n",
    "\n",
    "logreg = linear_model.LogisticRegression()\n",
    "\n",
    "# we create an instance of Neighbours Classifier and fit the data.\n",
    "logreg.fit(X_train, y_train)\n",
    "\n",
    "\n",
    "y_pdct = logreg.predict(X_test)\n",
    "\n",
    "print('Accuracy Score: {}'.format(accuracy_score(y_test, y_pdct)))\n",
    "print('Precession Score: {}'.format(precision_score(y_test, y_pdct, average='binary', pos_label=0)))\n",
    "print('Recall Score: {}'.format(recall_score(y_test, y_pdct, average='binary', pos_label=0)))\n",
    "print('F1 Score: {}'.format(f1_score(y_test, y_pdct, average='binary', pos_label=0)))\n"
   ]
  },
  {
   "cell_type": "code",
   "execution_count": null,
   "metadata": {
    "collapsed": true
   },
   "outputs": [],
   "source": []
  }
 ],
 "metadata": {
  "kernelspec": {
   "display_name": "Python 3",
   "language": "python",
   "name": "python3"
  },
  "language_info": {
   "codemirror_mode": {
    "name": "ipython",
    "version": 3
   },
   "file_extension": ".py",
   "mimetype": "text/x-python",
   "name": "python",
   "nbconvert_exporter": "python",
   "pygments_lexer": "ipython3",
   "version": "3.6.0"
  }
 },
 "nbformat": 4,
 "nbformat_minor": 1
}
